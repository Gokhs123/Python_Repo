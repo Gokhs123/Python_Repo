{
 "cells": [
  {
   "attachments": {},
   "cell_type": "markdown",
   "metadata": {},
   "source": [
    "<h3><b>Codes to strengthen the basic foundations of the Python<b></h3>"
   ]
  },
  {
   "attachments": {},
   "cell_type": "markdown",
   "metadata": {},
   "source": [
    "<h4><b>Average</b></h4>"
   ]
  },
  {
   "cell_type": "code",
   "execution_count": 2,
   "metadata": {},
   "outputs": [
    {
     "name": "stdout",
     "output_type": "stream",
     "text": [
      "\n",
      "\n",
      "Total Height is 857\n",
      "Number of Students are 5 \n",
      "The Average (Using Built-in Function) is 171\n",
      "^*^^*^^*^^*^^*^^*^^*^^*^^*^^*^^*^^*^^*^^*^^*^\n",
      "^*^^*^^*^^*^^*^^*^^*^^*^^*^^*^^*^^*^^*^^*^^*^\n",
      "Total_Height is 857\n",
      "Number_Of_Students are 5\n",
      "The Average (Using Loops) is 171\n"
     ]
    }
   ],
   "source": [
    "# Programe to calculate the Average Height of Students from the list of given heights\n",
    "\n",
    "student_heights = input(\"Enter the list of student's heights \").split()\n",
    "for n in range(0,len(student_heights)):\n",
    "    student_heights[n] = int(student_heights[n])\n",
    "print(\"\\n\") \n",
    "\n",
    "# With built-in functions \n",
    "\n",
    "total_height = sum(student_heights)\n",
    "print(f\"Total Height is {total_height}\")\n",
    "number_of_students = len(student_heights)\n",
    "print(f\"Number of Students are {number_of_students} \")\n",
    "average = round(total_height/number_of_students)\n",
    "print(f\"The Average (Using Built-in Function) is {average}\")\n",
    "print(\"^*^\"*15)\n",
    "\n",
    "# Using Loops\n",
    "\n",
    "print(\"^*^\"*15)\n",
    "\n",
    "Total_Height = 0\n",
    "for height in student_heights:\n",
    "    Total_Height += height\n",
    "print(f\"Total_Height is {Total_Height}\")\n",
    "\n",
    "Number_Of_Students = 0\n",
    "for students in student_heights:\n",
    "    Number_Of_Students += 1            # Please Note that the operator is \"+=\" and not =+\n",
    "print(f\"Number_Of_Students are {Number_Of_Students}\")\n",
    "\n",
    "Average = round(Total_Height/Number_Of_Students)\n",
    "print(f\"The Average (Using Loops) is {Average}\")"
   ]
  },
  {
   "attachments": {},
   "cell_type": "markdown",
   "metadata": {},
   "source": [
    "<h4><b>Maximum Marks</b></h4>"
   ]
  },
  {
   "cell_type": "code",
   "execution_count": 3,
   "metadata": {},
   "outputs": [
    {
     "name": "stdout",
     "output_type": "stream",
     "text": [
      "[56, 47, 89, 91, 66, 78, 77, 92]\n",
      "The highest score is 92\n"
     ]
    }
   ],
   "source": [
    "# Programme to calucualte the Maximum marks scored from the list of marks by Students\n",
    "\n",
    "student_scores = input(\"Input a list of Student's scores \").split()\n",
    "for n in range(0,len(student_scores)):\n",
    "    student_scores[n] = int(student_scores[n])\n",
    "print(student_scores) \n",
    "\n",
    "highest_score = 0\n",
    "for score in student_scores:\n",
    "    if score > highest_score:\n",
    "        highest_score = score\n",
    "print(f\"The highest score is {highest_score}\")"
   ]
  },
  {
   "attachments": {},
   "cell_type": "markdown",
   "metadata": {},
   "source": [
    "<h4><b>Adding Even Numbers</b></h4>"
   ]
  },
  {
   "cell_type": "code",
   "execution_count": 6,
   "metadata": {},
   "outputs": [
    {
     "name": "stdout",
     "output_type": "stream",
     "text": [
      "The Total is 2550\n",
      "The Total is 2550\n"
     ]
    }
   ],
   "source": [
    "# Using Range function's parametres (Start, End, Step)\n",
    "\n",
    "total = 0\n",
    "for number in range(2, 101,2):\n",
    "    total += number\n",
    "print(f\"The Total is {total}\")\n",
    "\n",
    "# Using Modulo operator\n",
    "\n",
    "Total = 0\n",
    "for number in range (1,101):\n",
    "    if number % 2 == 0:\n",
    "        Total += number\n",
    "print(f\"The Total is {Total}\")\n"
   ]
  },
  {
   "attachments": {},
   "cell_type": "markdown",
   "metadata": {},
   "source": [
    "<h4><b>The FizzBuzz Game</b></h4>\n",
    "<p>Programme should print each number from 1 - 100</p>\n",
    "<p>When the number is divisible by 3 -- Print 'Fizz'</p>\n",
    "<p>When the number is divisible by 5 -- Print 'Buzz</p>\n",
    "<p>When the number is divisible by both 3 & 5 -- Print 'FizzBuzz'</p>"
   ]
  },
  {
   "cell_type": "code",
   "execution_count": 8,
   "metadata": {},
   "outputs": [
    {
     "name": "stdout",
     "output_type": "stream",
     "text": [
      "1\n",
      "2\n",
      "Fizz\n",
      "4\n",
      "Buzz\n",
      "Fizz\n",
      "7\n",
      "8\n",
      "Fizz\n",
      "Buzz\n",
      "11\n",
      "Fizz\n",
      "13\n",
      "14\n",
      "FizzBuzz\n",
      "16\n",
      "17\n",
      "Fizz\n",
      "19\n",
      "Buzz\n",
      "Fizz\n",
      "22\n",
      "23\n",
      "Fizz\n",
      "Buzz\n",
      "26\n",
      "Fizz\n",
      "28\n",
      "29\n",
      "FizzBuzz\n",
      "31\n",
      "32\n",
      "Fizz\n",
      "34\n",
      "Buzz\n",
      "Fizz\n",
      "37\n",
      "38\n",
      "Fizz\n",
      "Buzz\n",
      "41\n",
      "Fizz\n",
      "43\n",
      "44\n",
      "FizzBuzz\n",
      "46\n",
      "47\n",
      "Fizz\n",
      "49\n",
      "Buzz\n",
      "Fizz\n",
      "52\n",
      "53\n",
      "Fizz\n",
      "Buzz\n",
      "56\n",
      "Fizz\n",
      "58\n",
      "59\n",
      "FizzBuzz\n",
      "61\n",
      "62\n",
      "Fizz\n",
      "64\n",
      "Buzz\n",
      "Fizz\n",
      "67\n",
      "68\n",
      "Fizz\n",
      "Buzz\n",
      "71\n",
      "Fizz\n",
      "73\n",
      "74\n",
      "FizzBuzz\n",
      "76\n",
      "77\n",
      "Fizz\n",
      "79\n",
      "Buzz\n",
      "Fizz\n",
      "82\n",
      "83\n",
      "Fizz\n",
      "Buzz\n",
      "86\n",
      "Fizz\n",
      "88\n",
      "89\n",
      "FizzBuzz\n",
      "91\n",
      "92\n",
      "Fizz\n",
      "94\n",
      "Buzz\n",
      "Fizz\n",
      "97\n",
      "98\n",
      "Fizz\n",
      "Buzz\n"
     ]
    }
   ],
   "source": [
    "for num in range(1,101):\n",
    "    if num % 3 == 0 and num % 5 == 0 :   # Very important that this condition is at the top in the if-else block as the other conditions if true would execute and be out of the loop\n",
    "        print(\"FizzBuzz\")\n",
    "    elif num % 3 == 0 :\n",
    "        print(\"Fizz\")\n",
    "    elif num % 5 == 0 :\n",
    "        print(\"Buzz\")\n",
    "    else :\n",
    "        print(num)"
   ]
  },
  {
   "attachments": {},
   "cell_type": "markdown",
   "metadata": {},
   "source": [
    "<h4><b>PyPassword</b></h4>"
   ]
  },
  {
   "cell_type": "code",
   "execution_count": 22,
   "metadata": {},
   "outputs": [
    {
     "name": "stdout",
     "output_type": "stream",
     "text": [
      " Welcome to the PyPassword Generator! \n",
      " The password generated is divptbdemeys4952#+%\n",
      " The password generated is jo95Y#Y5dLqBUF4v&*l\n"
     ]
    }
   ],
   "source": [
    "import random\n",
    "\n",
    "letters = ['a','b','c','d','e','f','g','h','i','j','k','l','m','n','o','p','q','r','s','t','u','v','w','x','y','z'\n",
    "           'A','B','C','D','E','F','G','H','I','J','K','L','M','N','O','P','Q','R','S','T','U','V','W','X','Y','Z']\n",
    "\n",
    "numbers = ['0','1','2','3','4','5','6','7','8','9']\n",
    "\n",
    "symbols = ['!','@','#','$','%','&','*','+']\n",
    "\n",
    "print(\" Welcome to the PyPassword Generator! \")\n",
    "nr_letters = int(input(\"How many Letters would you like in your password ? \"))\n",
    "nr_symbols = int(input(\"How many Symbols would you like in your password ? \"))\n",
    "nr_numbers = int(input(\"How many Numbers would you like in your passowrd ? \"))\n",
    "\n",
    "# Easy Level -- The position of the ,Letters, Numbers and Symbols is not random\n",
    "\n",
    "password =\"\"\n",
    "\n",
    "for char in range(1,nr_letters+1):\n",
    "    random_char = random.choice(letters)\n",
    "    password = password + random_char\n",
    "    #print(password)\n",
    "for char in range(1,nr_numbers+1):\n",
    "    random_char = random.choice(numbers)\n",
    "    password = password + random_char\n",
    "    #print(password)\n",
    "for char in range(1, nr_symbols+1):\n",
    "    random_char = random.choice(symbols)\n",
    "    password = password + random_char\n",
    "    #print(password)\n",
    "print(f\" The password generated is {password}\")\n",
    "\n",
    "# Hard Level -- The position of the Letters, Numbers and Symbols is now Random\n",
    "\n",
    "password_list = []\n",
    "\n",
    "for char in range(1,nr_letters+1):\n",
    "    password_list.append(random.choice(letters))\n",
    "for char in range(1,nr_numbers+1):\n",
    "    password_list.append(random.choice(numbers))\n",
    "for char in range(1,nr_symbols+1):\n",
    "    password_list.append(random.choice(symbols))\n",
    "\n",
    "#print(f\"The password generated is {password_list}\")\n",
    "random.shuffle(password_list)\n",
    "#print(password_list)\n",
    "\n",
    "Password = \"\"\n",
    "for char in password_list:\n",
    "    Password += char\n",
    "print(f\" The password generated is {Password}\")"
   ]
  },
  {
   "attachments": {},
   "cell_type": "markdown",
   "metadata": {},
   "source": [
    "<h4><b>Hangman, The Game</b></h4>\n",
    "<p>The game will be designed through 5 Steps</p>\n",
    "<p> Step 1 --> Checking User's Answers</p>\n",
    "<p>Step 2 --> Replacing Blanks with Guesses</p>\n",
    "<p>Step 3 --> Checking if the player has won or not</p>\n",
    "<p>Step 4 --> Keeping Track of the player's lives</p>\n",
    "<p>Step 5 --> UI/UX</p>"
   ]
  },
  {
   "cell_type": "code",
   "execution_count": 14,
   "metadata": {},
   "outputs": [
    {
     "name": "stdout",
     "output_type": "stream",
     "text": [
      " \n",
      " _                                             \n",
      "| |                                            \n",
      "| |__   __ _ _ __   __ _ _ __ ___   __ _ _ __  \n",
      "| '_ \\ / _` | '_ \\ / _` | '_ ` _ \\ / _` | '_ \\ \n",
      "| | | | (_| | | | | (_| | | | | | | (_| | | | |\n",
      "|_| |_|\\__,_|_| |_|\\__, |_| |_| |_|\\__,_|_| |_|\n",
      "                    __/ |                      \n",
      "                   |___/    \n",
      "You guessed e, that's not in the word. You lose a life.\n",
      "_ _ _ _ _\n",
      "\n",
      "  +---+\n",
      "  |   |\n",
      "  O   |\n",
      "      |\n",
      "      |\n",
      "      |\n",
      "=========\n",
      "\n",
      "You guessed w, that's not in the word. You lose a life.\n",
      "_ _ _ _ _\n",
      "\n",
      "  +---+\n",
      "  |   |\n",
      "  O   |\n",
      "  |   |\n",
      "      |\n",
      "      |\n",
      "=========\n",
      "\n",
      "You guessed b, that's not in the word. You lose a life.\n",
      "_ _ _ _ _\n",
      "\n",
      "  +---+\n",
      "  |   |\n",
      "  O   |\n",
      " /|   |\n",
      "      |\n",
      "      |\n",
      "=========\n",
      "You guessed a, that's not in the word. You lose a life.\n",
      "_ _ _ _ _\n",
      "\n",
      "  +---+\n",
      "  |   |\n",
      "  O   |\n",
      " /|\\  |\n",
      "      |\n",
      "      |\n",
      "=========\n",
      "\n",
      "You guessed c, that's not in the word. You lose a life.\n",
      "_ _ _ _ _\n",
      "\n",
      "  +---+\n",
      "  |   |\n",
      "  O   |\n",
      " /|\\  |\n",
      " /    |\n",
      "      |\n",
      "=========\n",
      "\n",
      "You guessed l, that's not in the word. You lose a life.\n",
      "You lose.\n",
      "_ _ _ _ _\n",
      "\n",
      "  +---+\n",
      "  |   |\n",
      "  O   |\n",
      " /|\\  |\n",
      " / \\  |\n",
      "      |\n",
      "=========\n",
      "\n"
     ]
    }
   ],
   "source": [
    "import random\n",
    "from Hangman_words import word_list\n",
    "from Hangman_art import stages, logo\n",
    "\n",
    "\n",
    "chosen_word = random.choice(word_list)\n",
    "word_length = len(chosen_word)\n",
    "end_of_game = False\n",
    "lives = 6\n",
    "\n",
    "print(logo)\n",
    "\n",
    "display = []\n",
    "for letter in chosen_word:\n",
    "    display += \"_\"\n",
    "\n",
    "while not end_of_game:\n",
    "    guess = input(\"Guess a letter: \").lower()\n",
    "    if guess in display:\n",
    "        print(f\"You've already guessed {guess}\")\n",
    "    for position in range(word_length):\n",
    "        letter = chosen_word[position]\n",
    "        if letter == guess:\n",
    "            display[position] = letter\n",
    "    if guess not in chosen_word:\n",
    "        print(f\"You guessed {guess}, that's not in the word. You lose a life.\")\n",
    "        lives -= 1\n",
    "        if lives == 0:\n",
    "            end_of_game = True\n",
    "            print(\"You lose.\")\n",
    "    print(f\"{' '.join(display)}\")\n",
    "    if \"_\" not in display:\n",
    "        end_of_game = True\n",
    "        print(\"You win.\")\n",
    "    \n",
    "    print(stages[lives])\n",
    "\n",
    "\n",
    "\n"
   ]
  },
  {
   "attachments": {},
   "cell_type": "markdown",
   "metadata": {},
   "source": [
    "<h4><b>Basics of Functions</b></h4>"
   ]
  },
  {
   "cell_type": "code",
   "execution_count": 11,
   "metadata": {},
   "outputs": [
    {
     "name": "stdout",
     "output_type": "stream",
     "text": [
      "Hello Sir\n",
      "How do you do ?\n",
      "Isn't the weather nice today ?\n",
      "\n",
      "Hello Yash\n",
      "How do you do Yash ?\n",
      "Isn't the weather nice today ?\n",
      "\n",
      "Hello Yash\n",
      "What is it like to live in India ?\n",
      "\n",
      "Hello Yash\n",
      "What is it like to live in US ?\n",
      "\n",
      "You didn't provide the correct information\n"
     ]
    }
   ],
   "source": [
    "# Simple Function\n",
    "\n",
    "def greet():\n",
    "    print(\"Hello Sir\")\n",
    "    print(\"How do you do ?\")\n",
    "    print(\"Isn't the weather nice today ?\\n\")\n",
    "\n",
    "greet()\n",
    "\n",
    "# Function with Parameter/s\n",
    "\n",
    "def greet_by_name(name):\n",
    "    print(f\"Hello {name}\")\n",
    "    print(f\"How do you do {name} ?\")\n",
    "    print(\"Isn't the weather nice today ?\\n\")\n",
    "\n",
    "greet_by_name(\"Yash\") \n",
    "\n",
    "def greet_with(name,loc):\n",
    "    print(f\"Hello {name}\")\n",
    "    print(f\"What is it like to live in {loc} ?\\n\")\n",
    "\n",
    "greet_with(\"Yash\", \"India\") # Positional Arguents \n",
    "greet_with(loc=\"US\",name=\"Yash\") # Keyword Arguments\n",
    "\n",
    "# Functions with  Multiple Return Values\n",
    "\n",
    "def format_name(Fname, Lname):\n",
    "    if Fname == \"\" or Lname == \"\":\n",
    "        return \"You didn't provide the correct information\"\n",
    "    formatted_fname = Fname.title()\n",
    "    formatted_lname = Lname.title()\n",
    "    return f\"Result: {formatted_fname} {formatted_lname}\"\n",
    "\n",
    "print(format_name(input(\"What is your First Name? \"),input(\"What is your Last Name? \")))\n"
   ]
  },
  {
   "cell_type": "code",
   "execution_count": 13,
   "metadata": {},
   "outputs": [
    {
     "name": "stdout",
     "output_type": "stream",
     "text": [
      "29\n"
     ]
    }
   ],
   "source": [
    "def Is_leap(year):\n",
    "    if year % 4 == 0 :\n",
    "        if year % 100 == 0 :\n",
    "            if year % 400 == 0:\n",
    "                #print(\"Leap year\")\n",
    "                return True\n",
    "            else:\n",
    "                #print(\"Not Leap Year\")\n",
    "                return False\n",
    "        else :\n",
    "            #print(\"Leap Year\")\n",
    "            return True\n",
    "    else :\n",
    "        #print(\"Not leap Year\")\n",
    "        return False\n",
    "    \n",
    "def days_in_months(year, month):\n",
    "    month_days = [31,28,31,30,31,30,31,31,30,31,30,31]\n",
    "    if Is_leap(year) and month == 2:\n",
    "        return 29\n",
    "    return month_days[month-1]\n",
    "\n",
    "year = int(input(\"Enter a year: \"))\n",
    "month = int(input(\"Enter a month: \"))\n",
    "days = days_in_months(year, month)\n",
    "print(days)\n"
   ]
  },
  {
   "attachments": {},
   "cell_type": "markdown",
   "metadata": {},
   "source": [
    "<h4><b>Paint Area Calculator</b></h4>\n",
    "<p>1 can of paint  --> covers 5 sqmtrs</p>\n",
    "<p>Given a random width and height of the wall, calculate the number of cans required</p>"
   ]
  },
  {
   "cell_type": "code",
   "execution_count": 10,
   "metadata": {},
   "outputs": [
    {
     "name": "stdout",
     "output_type": "stream",
     "text": [
      "Number of cans required: 5\n"
     ]
    }
   ],
   "source": [
    "\n",
    "def paint_calc(height,width,cover):\n",
    "    num_of_cans = round((height*width)/cover)\n",
    "    print(f\"Number of cans required: {num_of_cans}\")\n",
    "\n",
    "test_h = int(input(\"Height of the Wall: \"))\n",
    "test_w = int(input(\"Width of the Wall:  \"))\n",
    "coverage = 5\n",
    "paint_calc(height=test_h,width=test_w,cover=coverage) \n"
   ]
  },
  {
   "attachments": {},
   "cell_type": "markdown",
   "metadata": {},
   "source": [
    "<h4><b>Prime Number Checker</b></h4>"
   ]
  },
  {
   "cell_type": "code",
   "execution_count": 22,
   "metadata": {},
   "outputs": [
    {
     "name": "stdout",
     "output_type": "stream",
     "text": [
      "It's a Prime Number\n"
     ]
    }
   ],
   "source": [
    "\n",
    "def prime_checker(number):\n",
    "    is_Prime = True\n",
    "    for i in range(2, number):\n",
    "        if number % i == 0:\n",
    "            is_Prime = False\n",
    "    if is_Prime :\n",
    "        print(\"It's a Prime Number\")\n",
    "    else :\n",
    "        print(\"It's not a Prime Number\")\n",
    "\n",
    "n = int(input(\"Check this Number: \"))\n",
    "prime_checker(number=n)"
   ]
  },
  {
   "attachments": {},
   "cell_type": "markdown",
   "metadata": {},
   "source": [
    "<h4><b>Caeser Cipher</b></h4>\n",
    "<p>Divided into 3 Steps</p>\n",
    "<p>Step 1 --> Encryption</p>\n",
    "<p>Step 2 --> Decryption</p>\n",
    "<p>Step 3 --> UI/UX</p>"
   ]
  },
  {
   "cell_type": "code",
   "execution_count": 37,
   "metadata": {},
   "outputs": [
    {
     "name": "stdout",
     "output_type": "stream",
     "text": [
      "The decoded text is zulu\n"
     ]
    }
   ],
   "source": [
    "alphabet = ['a','b','c','d','e','f','g','h','i','j','k','l','m','n','o','p','q','r','s','t','u','v','w','x','y','z',\n",
    "            'a','b','c','d','e','f','g','h','i','j','k','l','m','n','o','p','q','r','s','t','u','v','w','x','y','z']\n",
    "direction = input(\"Type 'encode' to encrypt, type 'decode' to decrypt:\\n\")\n",
    "text = input(\"Type your message:\\n\").lower()\n",
    "shift = int(input(\"Type the Shift number:\\n\"))\n",
    "\n",
    "# def encrypt(plain_text, shift_amount):\n",
    "#     cipher_text = \"\"\n",
    "#     for letter in plain_text:\n",
    "#         position = alphabet.index(letter)\n",
    "#         new_position = position + shift_amount\n",
    "#         new_letter = alphabet[new_position]\n",
    "#         cipher_text += new_letter\n",
    "#     print(f\"The encoded text is {cipher_text}\")\n",
    "\n",
    "\n",
    "# def decrypt(cipher_text, shift_amount):\n",
    "#     plain_text = \"\"\n",
    "#     for letter in cipher_text:\n",
    "#         position = alphabet.index(letter)\n",
    "#         new_position = position - shift_amount\n",
    "#         new_letter = alphabet[new_position]\n",
    "#         plain_text += new_letter\n",
    "#     print(f\"The decoded text is {plain_text}\")\n",
    "\n",
    "\n",
    "# if direction == \"encode\":\n",
    "#     encrypt(plain_text=text, shift_amount=shift)\n",
    "# elif direction == \"decode\":\n",
    "#     decrypt(cipher_text=text, shift_amount=shift)\n",
    "\n",
    "\n",
    "# Combining two functions and the if statement into one function\n",
    "# The if block should be out of the for loop as with each iteration, it reduces the shift_amount which is not correct.\n",
    "\n",
    "def caeser(start_text, shift_amount, cipher_direction):\n",
    "    end_text = \"\"\n",
    "    if cipher_direction == \"decode\" :\n",
    "            shift_amount *= -1\n",
    "    for letter in start_text:\n",
    "        position = alphabet.index(letter)\n",
    "        new_position = position + shift_amount\n",
    "        new_letter = alphabet[new_position]\n",
    "        end_text += new_letter\n",
    "    print(f\"The {cipher_direction}d text is {end_text}\")\n",
    "\n",
    "caeser(start_text=text, shift_amount=shift, cipher_direction=direction)\n"
   ]
  },
  {
   "attachments": {},
   "cell_type": "markdown",
   "metadata": {},
   "source": [
    "<h4><b>Grading Program</b></h4>"
   ]
  },
  {
   "cell_type": "code",
   "execution_count": 38,
   "metadata": {},
   "outputs": [
    {
     "name": "stdout",
     "output_type": "stream",
     "text": [
      "{'Harry': 'Exceeds Expectations', 'Ron': 'Acceptable', 'Hermione': 'Outstanding', 'Draco': 'Acceptable', 'Neville': 'Fail'}\n"
     ]
    }
   ],
   "source": [
    "student_scores = {\n",
    "    \"Harry\":81,\n",
    "    \"Ron\":78,\n",
    "    \"Hermione\":99,\n",
    "    \"Draco\":74,\n",
    "    \"Neville\":62\n",
    "}\n",
    "\n",
    "student_grades = {}\n",
    "\n",
    "for student in student_scores:\n",
    "    score = student_scores[student]\n",
    "    if score > 90 :\n",
    "        student_grades[student] = \"Outstanding\"\n",
    "    elif score > 80 :\n",
    "        student_grades[student] = \"Exceeds Expectations\"\n",
    "    elif score > 70 :\n",
    "        student_grades[student] = \"Acceptable\"\n",
    "    else :\n",
    "        student_grades[student] = \"Fail\"\n",
    "\n",
    "print(student_grades)"
   ]
  },
  {
   "attachments": {},
   "cell_type": "markdown",
   "metadata": {},
   "source": [
    "<h4><b>Dictionary in List</b></h4>"
   ]
  },
  {
   "cell_type": "code",
   "execution_count": 43,
   "metadata": {},
   "outputs": [
    {
     "name": "stdout",
     "output_type": "stream",
     "text": [
      "[{'country': 'France', 'visits': 12, 'cities': ['Paris', 'Lille', 'Dijon']}, {'country': 'Germany', 'visits': 5, 'cities': ['Berlin', 'Hamburg', 'Stuttgart']}, {'country': 'Russia', 'visits': 2, 'cities': ['Moscow', 'Saint Petersburg']}, {'country': 'India', 'visits': 20, 'cities': ['Pune', 'Mumbai', 'Delhi', 'Chennai']}]\n"
     ]
    }
   ],
   "source": [
    "travel_log = [\n",
    "    {\n",
    "        \"country\" : \"France\",\n",
    "        \"visits\" : 12,\n",
    "        \"cities\" : [\"Paris\", \"Lille\", \"Dijon\"]\n",
    "    },\n",
    "    {\n",
    "        \"country\" : \"Germany\",\n",
    "        \"visits\" : 5,\n",
    "        \"cities\" : [\"Berlin\", \"Hamburg\", \"Stuttgart\"]\n",
    "    },\n",
    "]\n",
    "\n",
    "def add_new_country(country_visited,times_visited,cities_visited):\n",
    "    new_country = {}\n",
    "    new_country[\"country\"] = country_visited\n",
    "    new_country[\"visits\"] = times_visited\n",
    "    new_country[\"cities\"] = cities_visited\n",
    "    travel_log.append(new_country)\n",
    "\n",
    "\n",
    "add_new_country(\"Russia\", 2, [\"Moscow\", \"Saint Petersburg\"])\n",
    "add_new_country(\"India\", 20, [\"Pune\", \"Mumbai\",\"Delhi\",\"Chennai\"])\n",
    "print(travel_log)"
   ]
  },
  {
   "attachments": {},
   "cell_type": "markdown",
   "metadata": {},
   "source": [
    "<h4><b>Silent Auction</b></h4>"
   ]
  },
  {
   "cell_type": "code",
   "execution_count": 2,
   "metadata": {},
   "outputs": [
    {
     "name": "stdout",
     "output_type": "stream",
     "text": [
      "The winner is Pra with a bid of 445$\n"
     ]
    }
   ],
   "source": [
    "\n",
    "from Silent_Auction_art import logo\n",
    "import os\n",
    "clear = lambda: os.system('cls')\n",
    "\n",
    "print(logo)\n",
    "bids = {}\n",
    "bidding_finished = False\n",
    "\n",
    "def find_highest_bidder(bidding_record):\n",
    "    highest_bid = 0\n",
    "    winner = \"\"\n",
    "    # bidding record = {\"Jim\":123, \"James\":321}\n",
    "    for bidder in bidding_record:\n",
    "        bid_amount = bidding_record[bidder]\n",
    "        if bid_amount > highest_bid:\n",
    "            highest_bid = bid_amount\n",
    "            winner = bidder\n",
    "    print(f\"The winner is {winner} with a bid of {highest_bid}$\")\n",
    "\n",
    "while not bidding_finished:\n",
    "    name = input(\"What is your name ?: \")\n",
    "    price = int(input (\"What is your bid ?: $\"))\n",
    "    bids[name] = price\n",
    "    should_continue = input(\"Are there any other bidders ? Type 'Yes' or 'No' \").lower()\n",
    "    if should_continue == \"no\" :\n",
    "        bidding_finished = True\n",
    "        find_highest_bidder(bids)\n",
    "    elif should_continue == \"yes\" :\n",
    "        clear()\n",
    "\n"
   ]
  },
  {
   "attachments": {},
   "cell_type": "markdown",
   "metadata": {},
   "source": [
    "<h4><b>Simple Calculator</b></h4>"
   ]
  },
  {
   "cell_type": "code",
   "execution_count": null,
   "metadata": {},
   "outputs": [],
   "source": [
    "\n",
    "from Calculator_art import logo\n",
    "import os\n",
    "clear = lambda: os.system('cls')\n",
    "\n",
    "def add(n1, n2):\n",
    "  return n1 + n2\n",
    "\n",
    "def subtract(n1, n2):\n",
    "  return n1 - n2\n",
    "\n",
    "def multiply(n1, n2):\n",
    "  return n1 * n2\n",
    "\n",
    "def divide(n1, n2):\n",
    "  return n1 / n2\n",
    "\n",
    "operations = {\n",
    "  \"+\": add,\n",
    "  \"-\": subtract,\n",
    "  \"*\": multiply,\n",
    "  \"/\": divide\n",
    "}\n",
    "\n",
    "def calculator():\n",
    "  print(logo)\n",
    "\n",
    "  num1 = float(input(\"What's the first number?: \"))\n",
    "  for symbol in operations:\n",
    "    print(symbol)\n",
    "  should_continue = True\n",
    " \n",
    "  while should_continue:\n",
    "    operation_symbol = input(\"Pick an operation: \")\n",
    "    num2 = float(input(\"What's the next number?: \"))\n",
    "    calculation_function = operations[operation_symbol]\n",
    "    answer = calculation_function(num1, num2)\n",
    "    print(f\"{num1} {operation_symbol} {num2} = {answer}\")\n",
    "\n",
    "    if input(f\"Type 'y' to continue calculating with {answer}, or type 'n' to start a new calculation: \") == 'y':\n",
    "      num1 = answer\n",
    "    else:\n",
    "      should_continue = False\n",
    "      clear()\n",
    "      calculator()\n",
    "\n",
    "calculator()\n"
   ]
  },
  {
   "attachments": {},
   "cell_type": "markdown",
   "metadata": {},
   "source": [
    "<h4><b>Local and Global Scope</b></h4>"
   ]
  },
  {
   "cell_type": "code",
   "execution_count": 2,
   "metadata": {},
   "outputs": [
    {
     "name": "stdout",
     "output_type": "stream",
     "text": [
      "The Enemies inside the function: 3\n",
      "The Enemies outside the function: 1\n"
     ]
    }
   ],
   "source": [
    "enemies = 1\n",
    "\n",
    "def increase_enemies():\n",
    "    enemies = 3\n",
    "    print(f\"The Enemies inside the function: {enemies}\")\n",
    "\n",
    "increase_enemies()\n",
    "print(f\"The Enemies outside the function: {enemies}\")"
   ]
  },
  {
   "attachments": {},
   "cell_type": "markdown",
   "metadata": {},
   "source": [
    "<h4><b>The Number Guessing Game </b></h4>"
   ]
  },
  {
   "cell_type": "code",
   "execution_count": 11,
   "metadata": {},
   "outputs": [
    {
     "name": "stdout",
     "output_type": "stream",
     "text": [
      "Welcome to the Guessing Game\n",
      "I am thinking of a Number between 1 and 100\n",
      "You have 5 attempts remaining to guess the number\n",
      "Too High, Guess Again \n",
      "You have 4 attempts remaining to guess the number\n",
      "Too Low, Guess Again \n",
      "You have 3 attempts remaining to guess the number\n",
      "Too High, Guess Again \n",
      "You have 2 attempts remaining to guess the number\n",
      "Too High, Guess Again \n",
      "You have 1 attempts remaining to guess the number\n",
      "Too High, Guess Again \n",
      "You've Run out of guess!!\n"
     ]
    }
   ],
   "source": [
    "from random import randint\n",
    "EASY_LEVEL_TURNS = 10\n",
    "HARD_LEVEL_TURNS = 5\n",
    "\n",
    "def check_answer(guess, answer, turns):\n",
    "    if guess > answer:\n",
    "        print(\"Too High, Guess Again \")\n",
    "        return turns-1\n",
    "    elif guess < answer :\n",
    "        print(\"Too Low, Guess Again \")\n",
    "        return turns-1\n",
    "    else :\n",
    "        print(f\"You have got it !! The answer was {answer}\")\n",
    "\n",
    "def set_difficulty():\n",
    "    level = input(\"Choose a difficulty. Type 'easy' or 'hard': \")\n",
    "\n",
    "    if level == \"easy\" :\n",
    "        return EASY_LEVEL_TURNS\n",
    "    else :\n",
    "        return HARD_LEVEL_TURNS\n",
    "\n",
    "def game():\n",
    "    print(\"Welcome to the Guessing Game\")\n",
    "    print(\"I am thinking of a Number between 1 and 100\")\n",
    "    answer = randint(1,100) \n",
    "    #print(f\"Pssst the correct answer is {answer}\")\n",
    "    turns = set_difficulty()\n",
    "    \n",
    "\n",
    "    guess = 0\n",
    "\n",
    "    while guess != answer :\n",
    "\n",
    "        print(f\"You have {turns} attempts remaining to guess the number\")\n",
    "\n",
    "        guess = int(input(\"Make a Guess: \"))\n",
    "\n",
    "        turns = check_answer(guess, answer, turns)\n",
    "        if turns == 0:\n",
    "            print(\"You've Run out of guess!!\")\n",
    "            return\n",
    "\n",
    "game()"
   ]
  }
 ],
 "metadata": {
  "kernelspec": {
   "display_name": "Python 3",
   "language": "python",
   "name": "python3"
  },
  "language_info": {
   "codemirror_mode": {
    "name": "ipython",
    "version": 3
   },
   "file_extension": ".py",
   "mimetype": "text/x-python",
   "name": "python",
   "nbconvert_exporter": "python",
   "pygments_lexer": "ipython3",
   "version": "3.11.0"
  },
  "orig_nbformat": 4
 },
 "nbformat": 4,
 "nbformat_minor": 2
}
